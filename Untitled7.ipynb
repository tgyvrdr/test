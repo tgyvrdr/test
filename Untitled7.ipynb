{
  "nbformat": 4,
  "nbformat_minor": 0,
  "metadata": {
    "colab": {
      "provenance": [],
      "include_colab_link": true
    },
    "kernelspec": {
      "name": "python3",
      "display_name": "Python 3"
    },
    "language_info": {
      "name": "python"
    }
  },
  "cells": [
    {
      "cell_type": "markdown",
      "metadata": {
        "id": "view-in-github",
        "colab_type": "text"
      },
      "source": [
        "<a href=\"https://colab.research.google.com/github/tgyvrdr/test/blob/master/Untitled7.ipynb\" target=\"_parent\"><img src=\"https://colab.research.google.com/assets/colab-badge.svg\" alt=\"Open In Colab\"/></a>"
      ]
    },
    {
      "cell_type": "code",
      "execution_count": 1,
      "metadata": {
        "colab": {
          "base_uri": "https://localhost:8080/"
        },
        "id": "r4CQRrSgoc19",
        "outputId": "5e85ba45-547e-4cdd-e8c8-c1f29fb08a9e"
      },
      "outputs": [
        {
          "output_type": "stream",
          "name": "stdout",
          "text": [
            "Mounted at /content/drive/\n"
          ]
        }
      ],
      "source": [
        "# mount Google Drive\n",
        "from google.colab import drive\n",
        "drive.mount('/content/drive/')"
      ]
    },
    {
      "cell_type": "code",
      "source": [
        "# to show current working directory\n",
        "!pwd \n",
        "!ls\n",
        "%cd drive/MyDrive/Google Colab\n",
        "!ls"
      ],
      "metadata": {
        "colab": {
          "base_uri": "https://localhost:8080/"
        },
        "id": "rP750S45ooZi",
        "outputId": "4c8a0501-ea5f-4dad-a3b3-a13053e4aa40"
      },
      "execution_count": 2,
      "outputs": [
        {
          "output_type": "stream",
          "name": "stdout",
          "text": [
            "/content\n",
            "drive  sample_data\n",
            "/content/drive/MyDrive/Google Colab\n",
            "proje.ipynb  spectrograms\n"
          ]
        }
      ]
    },
    {
      "cell_type": "code",
      "source": [
        "# importing libraries \n",
        "import cv2\n",
        "import os\n",
        "import numpy as np\n",
        "import pandas as pd\n",
        "import matplotlib.pyplot as plt\n",
        "%matplotlib inline\n",
        "import tensorflow as tf"
      ],
      "metadata": {
        "id": "Ba8d_CBPoyyG"
      },
      "execution_count": 3,
      "outputs": []
    },
    {
      "cell_type": "code",
      "source": [
        "# to set path containing pics\n",
        "path = '/content/drive/MyDrive/Google Colab/spectrograms'"
      ],
      "metadata": {
        "id": "0bQwrdRBo2jw"
      },
      "execution_count": 4,
      "outputs": []
    },
    {
      "cell_type": "code",
      "source": [
        "%%time\n",
        "\n",
        "X_data = []\n",
        "y_data = []\n",
        "\n",
        "for subdir, dirs, files in os.walk(path):\n",
        "    for file in files:\n",
        "        pic = cv2.imread(os.path.join(subdir, file))\n",
        "        pic = cv2.cvtColor(pic, cv2.COLOR_BGR2GRAY)\n",
        "        pic = cv2.resize(pic, (32, 32))\n",
        "        \n",
        "        X_data.append(pic)\n",
        "        y_data.append(int(subdir[-1]))\n",
        "        # print(os.path.join(subdir, file))\n",
        "        # print(int(subdir[-1]))\n",
        "\n",
        "X = np.array(X_data) / 255\n",
        "y = np.array(y_data).reshape(-1, 1)\n",
        "\n",
        "#converting the list to numpy array and saving it to a file using #numpy.save\n",
        "#np.save(os.path.join(path,'X_array'), X)\n",
        "#np.save(os.path.join(path,'y_array'), y)\n",
        "\n",
        "print(X.shape)\n",
        "print(y.shape)"
      ],
      "metadata": {
        "colab": {
          "base_uri": "https://localhost:8080/"
        },
        "id": "M5hEhOVHqmc5",
        "outputId": "00770f43-bb00-4959-eaf8-a420e9855df1"
      },
      "execution_count": 5,
      "outputs": [
        {
          "output_type": "stream",
          "name": "stdout",
          "text": [
            "(8732, 32, 32)\n",
            "(8732, 1)\n",
            "CPU times: user 33.1 s, sys: 5.04 s, total: 38.1 s\n",
            "Wall time: 2min 19s\n"
          ]
        }
      ]
    },
    {
      "cell_type": "code",
      "source": [
        "print(X[0:2])\n",
        "print(y[0:2])"
      ],
      "metadata": {
        "colab": {
          "base_uri": "https://localhost:8080/"
        },
        "id": "RqnGrQbar1MC",
        "outputId": "29d6b775-017e-4259-c56b-eff7a76ac995"
      },
      "execution_count": 6,
      "outputs": [
        {
          "output_type": "stream",
          "name": "stdout",
          "text": [
            "[[[0.         0.         0.         ... 0.         0.         0.        ]\n",
            "  [0.         0.         0.         ... 0.         0.         0.        ]\n",
            "  [0.         0.         0.         ... 0.         0.         0.        ]\n",
            "  ...\n",
            "  [0.3372549  0.34509804 0.28235294 ... 0.         0.         0.        ]\n",
            "  [0.48235294 0.45098039 0.17254902 ... 0.         0.         0.        ]\n",
            "  [0.74117647 0.81176471 0.39215686 ... 0.24705882 0.14901961 0.        ]]\n",
            "\n",
            " [[0.         0.         0.         ... 0.         0.         0.        ]\n",
            "  [0.         0.         0.20784314 ... 0.         0.         0.        ]\n",
            "  [0.         0.02745098 0.27843137 ... 0.         0.         0.        ]\n",
            "  ...\n",
            "  [0.         0.35686275 0.48235294 ... 0.         0.         0.        ]\n",
            "  [0.         0.60784314 0.5372549  ... 0.05490196 0.0745098  0.14117647]\n",
            "  [0.1372549  0.70196078 0.78431373 ... 0.41176471 0.42745098 0.39215686]]]\n",
            "[[6]\n",
            " [6]]\n"
          ]
        }
      ]
    },
    {
      "cell_type": "code",
      "source": [
        "plt.imshow(X[100])\n",
        "plt.show()\n",
        "\n",
        "print(X[100].shape)"
      ],
      "metadata": {
        "colab": {
          "base_uri": "https://localhost:8080/",
          "height": 283
        },
        "id": "2Gh5Z881r64A",
        "outputId": "f374887a-6969-4c20-8a9f-f40e1e9e6dcf"
      },
      "execution_count": 7,
      "outputs": [
        {
          "output_type": "display_data",
          "data": {
            "text/plain": [
              "<Figure size 432x288 with 1 Axes>"
            ],
            "image/png": "[encoded data removed]"
          },
          "metadata": {
            "needs_background": "light"
          }
        },
        {
          "output_type": "stream",
          "name": "stdout",
          "text": [
            "(32, 32)\n"
          ]
        }
      ]
    },
    {
      "cell_type": "code",
      "source": [
        "from sklearn.model_selection import train_test_split\n",
        "\n",
        "X_train, X_temp, y_train, y_temp = train_test_split(X, y, test_size=0.30)\n",
        "X_val, X_test, y_val, y_test = train_test_split(X_temp, y_temp, test_size=0.50)\n",
        "\n",
        "print(f\"X_train: {len(X_train)}\")\n",
        "print(f\"y_train: {len(y_train)}\")\n",
        "\n",
        "print(f\"X_val: {len(X_val)}\")\n",
        "print(f\"y_val: {len(y_val)}\")\n",
        "\n",
        "print(f\"X_test: {len(X_test)}\")\n",
        "print(f\"y_test: {len(y_test)}\")"
      ],
      "metadata": {
        "colab": {
          "base_uri": "https://localhost:8080/"
        },
        "id": "b5OK6_P5sBB9",
        "outputId": "60ddcaad-f99d-4db8-ece1-b9e2878ece6e"
      },
      "execution_count": 8,
      "outputs": [
        {
          "output_type": "stream",
          "name": "stdout",
          "text": [
            "X_train: 6112\n",
            "y_train: 6112\n",
            "X_val: 1310\n",
            "y_val: 1310\n",
            "X_test: 1310\n",
            "y_test: 1310\n"
          ]
        }
      ]
    },
    {
      "cell_type": "code",
      "source": [
        "# Create a model object\n",
        "model = tf.keras.Sequential()"
      ],
      "metadata": {
        "id": "3YN0qOc1sDn6"
      },
      "execution_count": 9,
      "outputs": []
    },
    {
      "cell_type": "code",
      "source": [
        "# Add a convolution and max pooling layer\n",
        "model.add(tf.keras.layers.Conv2D(32,\n",
        "                                 kernel_size=(3,3),\n",
        "                                 strides=(1,1),\n",
        "                                 padding=\"same\",\n",
        "                                 activation=\"relu\",\n",
        "                                 input_shape=(32, 32, 1)))\n",
        "\n",
        "model.add(tf.keras.layers.MaxPooling2D((2,2)))\n",
        "\n",
        "# Add more convolution and max pooling layers\n",
        "# Add a convolution and max pooling layer\n",
        "model.add(tf.keras.layers.Conv2D(64,\n",
        "                                 kernel_size=(3,3),\n",
        "                                 strides=(1,1),\n",
        "                                 padding=\"same\",\n",
        "                                 activation=\"relu\"))\n",
        "\n",
        "model.add(tf.keras.layers.MaxPooling2D((2,2)))\n",
        "\n",
        "model.add(tf.keras.layers.Conv2D(64,\n",
        "                                 kernel_size=(3,3),\n",
        "                                 strides=(1,1),\n",
        "                                 padding=\"same\",\n",
        "                                 activation=\"relu\"))\n",
        "\n",
        "# Flatten the convolution layer\n",
        "model.add(tf.keras.layers.Flatten())\n",
        "\n",
        "# Add the dense layer and dropout layer\n",
        "model.add(tf.keras.layers.Dense(64, activation=\"relu\"))\n",
        "model.add(tf.keras.layers.Dropout(0.5))\n",
        "\n",
        "# Add the dense layer and dropout layer\n",
        "model.add(tf.keras.layers.Dense(64, activation=\"relu\"))\n",
        "model.add(tf.keras.layers.Dropout(0.5))\n",
        "\n",
        "# Add the output layer\n",
        "model.add(tf.keras.layers.Dense(10, activation=\"softmax\"))"
      ],
      "metadata": {
        "id": "uC3g_gknsICO"
      },
      "execution_count": 10,
      "outputs": []
    },
    {
      "cell_type": "code",
      "source": [
        "# Compile the model\n",
        "model.compile(optimizer=\"adam\",\n",
        "              loss=\"sparse_categorical_crossentropy\",\n",
        "              metrics=[\"accuracy\"])"
      ],
      "metadata": {
        "id": "OBtRpWWOsKTx"
      },
      "execution_count": 11,
      "outputs": []
    },
    {
      "cell_type": "code",
      "source": [
        "# Train the model for 50 epochs with batch size of 128\n",
        "results = model.fit(X_train, y_train,\n",
        "                    batch_size=128,\n",
        "                    epochs=50,\n",
        "                    validation_data=(X_val, y_val))"
      ],
      "metadata": {
        "colab": {
          "base_uri": "https://localhost:8080/"
        },
        "id": "TeKGAZAZsMPn",
        "outputId": "356191dc-ff56-499a-a8f5-58de65e706a9"
      },
      "execution_count": 12,
      "outputs": [
        {
          "output_type": "stream",
          "name": "stdout",
          "text": [
            "Epoch 1/50\n",
            "48/48 [==============================] - 12s 241ms/step - loss: 2.1102 - accuracy: 0.2107 - val_loss: 1.7775 - val_accuracy: 0.3847\n",
            "Epoch 2/50\n",
            "48/48 [==============================] - 7s 146ms/step - loss: 1.8226 - accuracy: 0.3194 - val_loss: 1.4692 - val_accuracy: 0.4855\n",
            "Epoch 3/50\n",
            "48/48 [==============================] - 7s 147ms/step - loss: 1.6424 - accuracy: 0.4085 - val_loss: 1.3327 - val_accuracy: 0.5931\n",
            "Epoch 4/50\n",
            "48/48 [==============================] - 7s 148ms/step - loss: 1.4851 - accuracy: 0.4707 - val_loss: 1.1394 - val_accuracy: 0.6115\n",
            "Epoch 5/50\n",
            "48/48 [==============================] - 7s 146ms/step - loss: 1.3733 - accuracy: 0.5178 - val_loss: 1.0924 - val_accuracy: 0.6450\n",
            "Epoch 6/50\n",
            "48/48 [==============================] - 7s 146ms/step - loss: 1.2674 - accuracy: 0.5581 - val_loss: 0.9539 - val_accuracy: 0.6985\n",
            "Epoch 7/50\n",
            "48/48 [==============================] - 7s 146ms/step - loss: 1.2085 - accuracy: 0.5777 - val_loss: 0.9146 - val_accuracy: 0.7275\n",
            "Epoch 8/50\n",
            "48/48 [==============================] - 7s 146ms/step - loss: 1.1256 - accuracy: 0.6119 - val_loss: 0.9110 - val_accuracy: 0.7038\n",
            "Epoch 9/50\n",
            "48/48 [==============================] - 7s 156ms/step - loss: 1.0916 - accuracy: 0.6314 - val_loss: 0.8351 - val_accuracy: 0.7382\n",
            "Epoch 10/50\n",
            "48/48 [==============================] - 7s 150ms/step - loss: 1.0380 - accuracy: 0.6437 - val_loss: 0.7828 - val_accuracy: 0.7496\n",
            "Epoch 11/50\n",
            "48/48 [==============================] - 7s 147ms/step - loss: 0.9734 - accuracy: 0.6718 - val_loss: 0.7219 - val_accuracy: 0.7718\n",
            "Epoch 12/50\n",
            "48/48 [==============================] - 7s 146ms/step - loss: 0.9428 - accuracy: 0.6850 - val_loss: 0.6957 - val_accuracy: 0.7802\n",
            "Epoch 13/50\n",
            "48/48 [==============================] - 7s 147ms/step - loss: 0.8728 - accuracy: 0.7050 - val_loss: 0.6580 - val_accuracy: 0.7977\n",
            "Epoch 14/50\n",
            "48/48 [==============================] - 7s 147ms/step - loss: 0.8543 - accuracy: 0.7130 - val_loss: 0.6796 - val_accuracy: 0.7908\n",
            "Epoch 15/50\n",
            "48/48 [==============================] - 7s 147ms/step - loss: 0.8147 - accuracy: 0.7335 - val_loss: 0.6113 - val_accuracy: 0.8183\n",
            "Epoch 16/50\n",
            "48/48 [==============================] - 7s 146ms/step - loss: 0.7904 - accuracy: 0.7421 - val_loss: 0.6116 - val_accuracy: 0.8137\n",
            "Epoch 17/50\n",
            "48/48 [==============================] - 7s 146ms/step - loss: 0.7307 - accuracy: 0.7561 - val_loss: 0.5672 - val_accuracy: 0.8214\n",
            "Epoch 18/50\n",
            "48/48 [==============================] - 7s 146ms/step - loss: 0.7483 - accuracy: 0.7474 - val_loss: 0.5885 - val_accuracy: 0.8260\n",
            "Epoch 19/50\n",
            "48/48 [==============================] - 7s 146ms/step - loss: 0.6893 - accuracy: 0.7683 - val_loss: 0.5655 - val_accuracy: 0.8168\n",
            "Epoch 20/50\n",
            "48/48 [==============================] - 7s 147ms/step - loss: 0.6847 - accuracy: 0.7763 - val_loss: 0.5360 - val_accuracy: 0.8267\n",
            "Epoch 21/50\n",
            "48/48 [==============================] - 7s 146ms/step - loss: 0.6374 - accuracy: 0.7912 - val_loss: 0.5217 - val_accuracy: 0.8290\n",
            "Epoch 22/50\n",
            "48/48 [==============================] - 7s 147ms/step - loss: 0.5975 - accuracy: 0.7971 - val_loss: 0.5416 - val_accuracy: 0.8366\n",
            "Epoch 23/50\n",
            "48/48 [==============================] - 7s 146ms/step - loss: 0.6030 - accuracy: 0.7997 - val_loss: 0.5127 - val_accuracy: 0.8427\n",
            "Epoch 24/50\n",
            "48/48 [==============================] - 7s 146ms/step - loss: 0.5638 - accuracy: 0.8146 - val_loss: 0.5300 - val_accuracy: 0.8351\n",
            "Epoch 25/50\n",
            "48/48 [==============================] - 7s 147ms/step - loss: 0.5186 - accuracy: 0.8295 - val_loss: 0.4933 - val_accuracy: 0.8527\n",
            "Epoch 26/50\n",
            "48/48 [==============================] - 7s 146ms/step - loss: 0.5324 - accuracy: 0.8262 - val_loss: 0.5063 - val_accuracy: 0.8489\n",
            "Epoch 27/50\n",
            "48/48 [==============================] - 7s 147ms/step - loss: 0.5128 - accuracy: 0.8298 - val_loss: 0.4947 - val_accuracy: 0.8443\n",
            "Epoch 28/50\n",
            "48/48 [==============================] - 7s 148ms/step - loss: 0.4860 - accuracy: 0.8410 - val_loss: 0.4886 - val_accuracy: 0.8542\n",
            "Epoch 29/50\n",
            "48/48 [==============================] - 7s 147ms/step - loss: 0.4770 - accuracy: 0.8423 - val_loss: 0.5538 - val_accuracy: 0.8443\n",
            "Epoch 30/50\n",
            "48/48 [==============================] - 7s 147ms/step - loss: 0.4643 - accuracy: 0.8470 - val_loss: 0.5041 - val_accuracy: 0.8573\n",
            "Epoch 31/50\n",
            "48/48 [==============================] - 7s 147ms/step - loss: 0.4454 - accuracy: 0.8554 - val_loss: 0.4854 - val_accuracy: 0.8527\n",
            "Epoch 32/50\n",
            "48/48 [==============================] - 7s 147ms/step - loss: 0.4290 - accuracy: 0.8529 - val_loss: 0.5623 - val_accuracy: 0.8481\n",
            "Epoch 33/50\n",
            "48/48 [==============================] - 7s 147ms/step - loss: 0.4320 - accuracy: 0.8537 - val_loss: 0.5171 - val_accuracy: 0.8603\n",
            "Epoch 34/50\n",
            "48/48 [==============================] - 7s 147ms/step - loss: 0.3913 - accuracy: 0.8671 - val_loss: 0.4799 - val_accuracy: 0.8656\n",
            "Epoch 35/50\n",
            "48/48 [==============================] - 7s 146ms/step - loss: 0.3824 - accuracy: 0.8730 - val_loss: 0.5205 - val_accuracy: 0.8626\n",
            "Epoch 36/50\n",
            "48/48 [==============================] - 7s 147ms/step - loss: 0.3659 - accuracy: 0.8730 - val_loss: 0.5376 - val_accuracy: 0.8626\n",
            "Epoch 37/50\n",
            "48/48 [==============================] - 7s 147ms/step - loss: 0.3705 - accuracy: 0.8734 - val_loss: 0.5329 - val_accuracy: 0.8427\n",
            "Epoch 38/50\n",
            "48/48 [==============================] - 7s 146ms/step - loss: 0.3507 - accuracy: 0.8807 - val_loss: 0.5368 - val_accuracy: 0.8565\n",
            "Epoch 39/50\n",
            "48/48 [==============================] - 7s 147ms/step - loss: 0.3576 - accuracy: 0.8757 - val_loss: 0.4941 - val_accuracy: 0.8580\n",
            "Epoch 40/50\n",
            "48/48 [==============================] - 7s 147ms/step - loss: 0.3243 - accuracy: 0.8897 - val_loss: 0.5971 - val_accuracy: 0.8412\n",
            "Epoch 41/50\n",
            "48/48 [==============================] - 7s 147ms/step - loss: 0.3140 - accuracy: 0.8892 - val_loss: 0.5708 - val_accuracy: 0.8489\n",
            "Epoch 42/50\n",
            "48/48 [==============================] - 7s 147ms/step - loss: 0.3331 - accuracy: 0.8829 - val_loss: 0.5385 - val_accuracy: 0.8580\n",
            "Epoch 43/50\n",
            "48/48 [==============================] - 7s 147ms/step - loss: 0.3061 - accuracy: 0.8891 - val_loss: 0.5491 - val_accuracy: 0.8656\n",
            "Epoch 44/50\n",
            "48/48 [==============================] - 7s 146ms/step - loss: 0.2952 - accuracy: 0.8976 - val_loss: 0.5660 - val_accuracy: 0.8664\n",
            "Epoch 45/50\n",
            "48/48 [==============================] - 7s 147ms/step - loss: 0.2786 - accuracy: 0.9053 - val_loss: 0.5412 - val_accuracy: 0.8641\n",
            "Epoch 46/50\n",
            "48/48 [==============================] - 7s 147ms/step - loss: 0.2957 - accuracy: 0.8958 - val_loss: 0.5884 - val_accuracy: 0.8565\n",
            "Epoch 47/50\n",
            "48/48 [==============================] - 7s 147ms/step - loss: 0.2896 - accuracy: 0.8986 - val_loss: 0.5675 - val_accuracy: 0.8672\n",
            "Epoch 48/50\n",
            "48/48 [==============================] - 7s 146ms/step - loss: 0.2720 - accuracy: 0.9084 - val_loss: 0.5508 - val_accuracy: 0.8618\n",
            "Epoch 49/50\n",
            "48/48 [==============================] - 7s 146ms/step - loss: 0.2507 - accuracy: 0.9112 - val_loss: 0.6024 - val_accuracy: 0.8542\n",
            "Epoch 50/50\n",
            "48/48 [==============================] - 7s 147ms/step - loss: 0.2737 - accuracy: 0.9071 - val_loss: 0.5826 - val_accuracy: 0.8618\n"
          ]
        }
      ]
    },
    {
      "cell_type": "code",
      "source": [
        "plt.figure(figsize=(10, 6))\n",
        "\n",
        "# Plot the the training loss\n",
        "plt.plot(results.history[\"loss\"], label=\"train_loss\")\n",
        "\n",
        "# Plot the the validation loss\n",
        "plt.plot(results.history[\"val_loss\"], label=\"val_loss\")\n",
        "\n",
        "\n",
        "# Name the x and y axises\n",
        "plt.ylabel(\"Loss\") \n",
        "plt.xlabel(\"Epoch#\")\n",
        "\n",
        "# Put legend table\n",
        "plt.legend()\n",
        "\n",
        "# Show the plot\n",
        "plt.show()"
      ],
      "metadata": {
        "colab": {
          "base_uri": "https://localhost:8080/",
          "height": 388
        },
        "id": "QHAH9z4zsQCG",
        "outputId": "f4927d06-b1a7-4c34-c1be-2820dc44d8bf"
      },
      "execution_count": 13,
      "outputs": [
        {
          "output_type": "display_data",
          "data": {
            "text/plain": [
              "<Figure size 720x432 with 1 Axes>"
            ],
            "image/png": "[encoded data removed]"
          },
          "metadata": {
            "needs_background": "light"
          }
        }
      ]
    },
    {
      "cell_type": "code",
      "source": [
        "plt.figure(figsize=(10, 6))\n",
        "\n",
        "# Plot the the training accuracy\n",
        "plt.plot(results.history[\"accuracy\"], label=\"train_accuracy\")\n",
        "\n",
        "\n",
        "# Plot the the validation accuracy\n",
        "plt.plot(results.history[\"val_accuracy\"], label=\"val_accuracy\")\n",
        "\n",
        "\n",
        "# Name the x and y axises\n",
        "plt.ylabel(\"Accuracy\") \n",
        "plt.xlabel(\"Epoch#\")\n",
        "\n",
        "# Put legend table\n",
        "plt.legend()\n",
        "\n",
        "# Show the plot\n",
        "plt.show()"
      ],
      "metadata": {
        "colab": {
          "base_uri": "https://localhost:8080/",
          "height": 388
        },
        "id": "88GOZvzlsWsw",
        "outputId": "3402ab53-6294-4bd4-d7f8-586630ff6d8b"
      },
      "execution_count": 14,
      "outputs": [
        {
          "output_type": "display_data",
          "data": {
            "text/plain": [
              "<Figure size 720x432 with 1 Axes>"
            ],
            "image/png": "[encoded data removed]"
          },
          "metadata": {
            "needs_background": "light"
          }
        }
      ]
    },
    {
      "cell_type": "code",
      "source": [
        "# Evaluate the performance\n",
        "model.evaluate(X_test, y_test)"
      ],
      "metadata": {
        "colab": {
          "base_uri": "https://localhost:8080/"
        },
        "id": "cXBKaDMfsY8x",
        "outputId": "4eed0d27-a56b-4f60-a9e6-04df6b4e7573"
      },
      "execution_count": 15,
      "outputs": [
        {
          "output_type": "stream",
          "name": "stdout",
          "text": [
            "41/41 [==============================] - 0s 11ms/step - loss: 0.5494 - accuracy: 0.8634\n"
          ]
        },
        {
          "output_type": "execute_result",
          "data": {
            "text/plain": [
              "[0.5493629574775696, 0.8633587956428528]"
            ]
          },
          "metadata": {},
          "execution_count": 15
        }
      ]
    },
    {
      "cell_type": "code",
      "source": [
        "# Make prediction on the reshaped sample\n",
        "prediction_result = model.predict(X_test[100].reshape(1, 32, 32, 1))\n",
        "\n",
        "# Print the prediction result\n",
        "prediction_result"
      ],
      "metadata": {
        "colab": {
          "base_uri": "https://localhost:8080/"
        },
        "id": "nN6FrLwOsanx",
        "outputId": "cea005a4-b4af-445f-b656-ded056b61b57"
      },
      "execution_count": 16,
      "outputs": [
        {
          "output_type": "execute_result",
          "data": {
            "text/plain": [
              "array([[9.5578631e-19, 3.2840101e-20, 1.9798142e-14, 1.0000000e+00,\n",
              "        3.4831711e-09, 1.3124814e-22, 6.2882481e-18, 1.5784880e-21,\n",
              "        1.1024175e-19, 6.0571246e-15]], dtype=float32)"
            ]
          },
          "metadata": {},
          "execution_count": 16
        }
      ]
    },
    {
      "cell_type": "code",
      "source": [
        "# Find the predicted class\n",
        "predicted_class = prediction_result.argmax()\n",
        "\n",
        "# Find the prediction probability\n",
        "predicted_probability = prediction_result.max()"
      ],
      "metadata": {
        "id": "avS-0t07sc69"
      },
      "execution_count": 17,
      "outputs": []
    },
    {
      "cell_type": "code",
      "source": [
        "plt.imshow(X_test[100])\n",
        "plt.show()\n",
        "\n",
        "print(X_test[100].shape)\n",
        "\n",
        "# Print the results\n",
        "print(f\"This image belongs to class {predicted_class} with {predicted_probability} probability %\")\n",
        "print(f\"The actual class of the selected image is: {y_test[100]}\")"
      ],
      "metadata": {
        "colab": {
          "base_uri": "https://localhost:8080/",
          "height": 318
        },
        "id": "kvWSBJm6sdsc",
        "outputId": "98b4536f-480b-4bbe-9cc6-09b746da133d"
      },
      "execution_count": 18,
      "outputs": [
        {
          "output_type": "display_data",
          "data": {
            "text/plain": [
              "<Figure size 432x288 with 1 Axes>"
            ],
            "image/png": "[encoded data removed]"
          },
          "metadata": {
            "needs_background": "light"
          }
        },
        {
          "output_type": "stream",
          "name": "stdout",
          "text": [
            "(32, 32)\n",
            "This image belongs to class 3 with 1.0 probability %\n",
            "The actual class of the selected image is: [3]\n"
          ]
        }
      ]
    }
  ]
}